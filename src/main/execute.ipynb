{
 "cells": [
  {
   "cell_type": "markdown",
   "metadata": {},
   "source": [
    "# Main Structure"
   ]
  },
  {
   "cell_type": "markdown",
   "metadata": {},
   "source": [
    "## 1. ACT"
   ]
  },
  {
   "cell_type": "markdown",
   "metadata": {},
   "source": [
    "Read a pdf file"
   ]
  },
  {
   "cell_type": "code",
   "execution_count": 1,
   "metadata": {},
   "outputs": [
    {
     "name": "stdout",
     "output_type": "stream",
     "text": [
      "Requirement already satisfied: ipympl in /Users/dannguyen/Yirigaa/major_project/.venv/lib/python3.9/site-packages (0.9.4)\n",
      "Requirement already satisfied: ipython-genutils in /Users/dannguyen/Yirigaa/major_project/.venv/lib/python3.9/site-packages (from ipympl) (0.2.0)\n",
      "Requirement already satisfied: ipython<9 in /Users/dannguyen/Yirigaa/major_project/.venv/lib/python3.9/site-packages (from ipympl) (8.18.1)\n",
      "Requirement already satisfied: ipywidgets<9,>=7.6.0 in /Users/dannguyen/Yirigaa/major_project/.venv/lib/python3.9/site-packages (from ipympl) (8.1.2)\n",
      "Requirement already satisfied: matplotlib<4,>=3.4.0 in /Users/dannguyen/Yirigaa/major_project/.venv/lib/python3.9/site-packages (from ipympl) (3.8.3)\n",
      "Requirement already satisfied: numpy in /Users/dannguyen/Yirigaa/major_project/.venv/lib/python3.9/site-packages (from ipympl) (1.26.4)\n",
      "Requirement already satisfied: pillow in /Users/dannguyen/Yirigaa/major_project/.venv/lib/python3.9/site-packages (from ipympl) (10.2.0)\n",
      "Requirement already satisfied: traitlets<6 in /Users/dannguyen/Yirigaa/major_project/.venv/lib/python3.9/site-packages (from ipympl) (5.14.1)\n",
      "Requirement already satisfied: decorator in /Users/dannguyen/Yirigaa/major_project/.venv/lib/python3.9/site-packages (from ipython<9->ipympl) (5.1.1)\n",
      "Requirement already satisfied: jedi>=0.16 in /Users/dannguyen/Yirigaa/major_project/.venv/lib/python3.9/site-packages (from ipython<9->ipympl) (0.19.1)\n",
      "Requirement already satisfied: matplotlib-inline in /Users/dannguyen/Yirigaa/major_project/.venv/lib/python3.9/site-packages (from ipython<9->ipympl) (0.1.6)\n",
      "Requirement already satisfied: prompt-toolkit<3.1.0,>=3.0.41 in /Users/dannguyen/Yirigaa/major_project/.venv/lib/python3.9/site-packages (from ipython<9->ipympl) (3.0.43)\n",
      "Requirement already satisfied: pygments>=2.4.0 in /Users/dannguyen/Yirigaa/major_project/.venv/lib/python3.9/site-packages (from ipython<9->ipympl) (2.17.2)\n",
      "Requirement already satisfied: stack-data in /Users/dannguyen/Yirigaa/major_project/.venv/lib/python3.9/site-packages (from ipython<9->ipympl) (0.6.3)\n",
      "Requirement already satisfied: typing-extensions in /Users/dannguyen/Yirigaa/major_project/.venv/lib/python3.9/site-packages (from ipython<9->ipympl) (4.10.0)\n",
      "Requirement already satisfied: exceptiongroup in /Users/dannguyen/Yirigaa/major_project/.venv/lib/python3.9/site-packages (from ipython<9->ipympl) (1.2.0)\n",
      "Requirement already satisfied: pexpect>4.3 in /Users/dannguyen/Yirigaa/major_project/.venv/lib/python3.9/site-packages (from ipython<9->ipympl) (4.9.0)\n",
      "Requirement already satisfied: comm>=0.1.3 in /Users/dannguyen/Yirigaa/major_project/.venv/lib/python3.9/site-packages (from ipywidgets<9,>=7.6.0->ipympl) (0.2.1)\n",
      "Requirement already satisfied: widgetsnbextension~=4.0.10 in /Users/dannguyen/Yirigaa/major_project/.venv/lib/python3.9/site-packages (from ipywidgets<9,>=7.6.0->ipympl) (4.0.10)\n",
      "Requirement already satisfied: jupyterlab-widgets~=3.0.10 in /Users/dannguyen/Yirigaa/major_project/.venv/lib/python3.9/site-packages (from ipywidgets<9,>=7.6.0->ipympl) (3.0.10)\n",
      "Requirement already satisfied: contourpy>=1.0.1 in /Users/dannguyen/Yirigaa/major_project/.venv/lib/python3.9/site-packages (from matplotlib<4,>=3.4.0->ipympl) (1.2.0)\n",
      "Requirement already satisfied: cycler>=0.10 in /Users/dannguyen/Yirigaa/major_project/.venv/lib/python3.9/site-packages (from matplotlib<4,>=3.4.0->ipympl) (0.12.1)\n",
      "Requirement already satisfied: fonttools>=4.22.0 in /Users/dannguyen/Yirigaa/major_project/.venv/lib/python3.9/site-packages (from matplotlib<4,>=3.4.0->ipympl) (4.49.0)\n",
      "Requirement already satisfied: kiwisolver>=1.3.1 in /Users/dannguyen/Yirigaa/major_project/.venv/lib/python3.9/site-packages (from matplotlib<4,>=3.4.0->ipympl) (1.4.5)\n",
      "Requirement already satisfied: packaging>=20.0 in /Users/dannguyen/Yirigaa/major_project/.venv/lib/python3.9/site-packages (from matplotlib<4,>=3.4.0->ipympl) (23.2)\n",
      "Requirement already satisfied: pyparsing>=2.3.1 in /Users/dannguyen/Yirigaa/major_project/.venv/lib/python3.9/site-packages (from matplotlib<4,>=3.4.0->ipympl) (3.1.2)\n",
      "Requirement already satisfied: python-dateutil>=2.7 in /Users/dannguyen/Yirigaa/major_project/.venv/lib/python3.9/site-packages (from matplotlib<4,>=3.4.0->ipympl) (2.9.0.post0)\n",
      "Requirement already satisfied: importlib-resources>=3.2.0 in /Users/dannguyen/Yirigaa/major_project/.venv/lib/python3.9/site-packages (from matplotlib<4,>=3.4.0->ipympl) (6.1.3)\n",
      "Requirement already satisfied: zipp>=3.1.0 in /Users/dannguyen/Yirigaa/major_project/.venv/lib/python3.9/site-packages (from importlib-resources>=3.2.0->matplotlib<4,>=3.4.0->ipympl) (3.17.0)\n",
      "Requirement already satisfied: parso<0.9.0,>=0.8.3 in /Users/dannguyen/Yirigaa/major_project/.venv/lib/python3.9/site-packages (from jedi>=0.16->ipython<9->ipympl) (0.8.3)\n",
      "Requirement already satisfied: ptyprocess>=0.5 in /Users/dannguyen/Yirigaa/major_project/.venv/lib/python3.9/site-packages (from pexpect>4.3->ipython<9->ipympl) (0.7.0)\n",
      "Requirement already satisfied: wcwidth in /Users/dannguyen/Yirigaa/major_project/.venv/lib/python3.9/site-packages (from prompt-toolkit<3.1.0,>=3.0.41->ipython<9->ipympl) (0.2.13)\n",
      "Requirement already satisfied: six>=1.5 in /Users/dannguyen/Yirigaa/major_project/.venv/lib/python3.9/site-packages (from python-dateutil>=2.7->matplotlib<4,>=3.4.0->ipympl) (1.16.0)\n",
      "Requirement already satisfied: executing>=1.2.0 in /Users/dannguyen/Yirigaa/major_project/.venv/lib/python3.9/site-packages (from stack-data->ipython<9->ipympl) (2.0.1)\n",
      "Requirement already satisfied: asttokens>=2.1.0 in /Users/dannguyen/Yirigaa/major_project/.venv/lib/python3.9/site-packages (from stack-data->ipython<9->ipympl) (2.4.1)\n",
      "Requirement already satisfied: pure-eval in /Users/dannguyen/Yirigaa/major_project/.venv/lib/python3.9/site-packages (from stack-data->ipython<9->ipympl) (0.2.2)\n"
     ]
    }
   ],
   "source": [
    "!pip install ipympl"
   ]
  },
  {
   "cell_type": "code",
   "execution_count": 2,
   "metadata": {},
   "outputs": [],
   "source": [
    "%matplotlib widget \n",
    "\n",
    "import tkinter as tk\n",
    "from tkinter import filedialog\n",
    "\n",
    "def select_pdf_file():\n",
    "    root = tk.Tk()\n",
    "    root.withdraw()  # Hide the main Tkinter window\n",
    "\n",
    "    file_path = filedialog.askopenfilename(filetypes=[(\"PDF Files\", \"*.pdf\")])\n",
    "    root.destroy()  # Close the file dialog\n",
    "    return file_path\n",
    "\n",
    "# Get the file path from the user\n",
    "file_path = select_pdf_file() # This will open a file dialog"
   ]
  },
  {
   "cell_type": "markdown",
   "metadata": {},
   "source": [
    "Then, we build an ACT from the PDF file"
   ]
  },
  {
   "cell_type": "code",
   "execution_count": 3,
   "metadata": {},
   "outputs": [
    {
     "name": "stdout",
     "output_type": "stream",
     "text": [
      "/Users/dannguyen/Yirigaa/major_project/data/raw/sample_reports/s1-2022 (1)/45698120_Talha Islam_assignsubmission_file/45698120.pdf\n"
     ]
    }
   ],
   "source": [
    "print(file_path)"
   ]
  },
  {
   "cell_type": "code",
   "execution_count": 4,
   "metadata": {},
   "outputs": [
    {
     "name": "stdout",
     "output_type": "stream",
     "text": [
      "45698120.pdf\n",
      "├── ACKNOWLEDGEMENT\n",
      "│   ├── ACKNOWLEDGEMENT\n",
      "│   └── I wou\n",
      "├── EXECUTIVE SUMMARY\n",
      "│   ├── EXECUTIVE SUMMARY\n",
      "│   ├── The m\n",
      "│   └── 4 \n",
      "Ta\n",
      "├── OVERVIEW OF THE ORGANIZATION\n",
      "│   ├── BRIEF HISTORY:\n",
      "│   │   ├── BRIEF HISTORY:\n",
      "│   │   └── The I\n",
      "│   ├── INTRODUCTION OF THE ORGANIZATION:\n",
      "│   │   ├── ITIC EDUCATION AND RESEARCH:\n",
      "│   │   │   ├── ITIC EDUCATION AND RESEARCH:\n",
      "│   │   │   ├── Apart\n",
      "│   │   │   └── 6 \n",
      "al\n",
      "│   │   └── ITIC PARTNERS:\n",
      "│   │       └── ITIC PARTNERS:\n",
      "│   ├── ORGANIZATION POLICIES:\n",
      "│   │   ├── ORGANIZATION POLICIES:\n",
      "│   │   ├── The I\n",
      "│   │   ├── Information Technology:\n",
      "│   │   ├── The u\n",
      "│   │   ├── Workplace Behaviour:\n",
      "│   │   └── To ma\n",
      "│   └── COMPETITORS:\n",
      "│       ├── COMPETITORS:\n",
      "│       └── Accor\n",
      "├── ORGANIZATIONAL STRUCTURE\n",
      "│   ├── ORGANIZATIONAL STRUCTURE\n",
      "│   ├── The I\n",
      "│   ├── 8 \n",
      "Fu\n",
      "│   └── The s\n",
      "├── PLAN OF INTERNSHIP PROGRAM\n",
      "│   ├── PLAN OF INTERNSHIP PROGRAM\n",
      "│   ├── Home Office:\n",
      "│   ├── The p\n",
      "│   ├── Dates of Internship Plan:\n",
      "│   ├── The p\n",
      "│   ├── Part-time or Full-Time:\n",
      "│   ├── The e\n",
      "│   ├── Department:\n",
      "│   └── This \n",
      "├── TRAINING PROGRAM\n",
      "│   ├── TRAIN\n",
      "│   ├── 11 \n",
      "s\n",
      "│   ├── 12 \n",
      "c\n",
      "│   └── 13 \n",
      "F\n",
      "├── REFLECTIVE JOURNAL ENTRIES\n",
      "│   ├── REFLECTIVE JOURNAL ENTRIES\n",
      "│   ├── The r\n",
      "│   ├── WEEK#07\n",
      "│   ├── In th\n",
      "│   ├── 15 \n",
      "h\n",
      "│   ├── This \n",
      "│   ├── WEEK#08\n",
      "│   ├── The 8\n",
      "│   ├── 16 \n",
      "W\n",
      "│   ├── WEEK#\n",
      "│   ├── 17 \n",
      "W\n",
      "│   ├── The 1\n",
      "│   ├── The 1\n",
      "│   ├── In th\n",
      "│   └── In th\n",
      "├── WORK SAMPLES\n",
      "│   ├── Fig 1.1. Collection of Data\n",
      "│   │   └── Fig 1\n",
      "│   ├── Fig 1.2. Model Training\n",
      "│   │   ├── Fig 1.2. Model Training\n",
      "│   │   ├── 19 \n",
      "S\n",
      "│   │   └── Data Classification:\n",
      "│   ├── Fig 1.3. Data Classification\n",
      "│   │   ├── Fig 1.3. Data Classification\n",
      "│   │   ├── Sample#04\n",
      "│   │   ├── Project Output:\n",
      "│   │   └── 1st P\n",
      "│   ├── Fig 1.4. Project Output\n",
      "│   │   ├── Fig 1.4. Project Output\n",
      "│   │   ├── 20 \n",
      "S\n",
      "│   │   ├── Attendance csv file:\n",
      "│   │   └── It is the screenshot of the attendance csv file.\n",
      "│   └── Fig 1.5. CSV file\n",
      "│       └── Fig 1.5. CSV file\n",
      "├── CRITICAL ANALYSIS\n",
      "│   ├── CRITICAL ANALYSIS\n",
      "│   ├── The c\n",
      "│   ├── This \n",
      "│   ├── The t\n",
      "│   ├── As a \n",
      "│   ├── Furth\n",
      "│   ├── The p\n",
      "│   ├── 22 \n",
      "T\n",
      "│   ├── The o\n",
      "│   ├── The I\n",
      "│   └── I wou\n",
      "├── SWOT ANALYSIS\n",
      "│   ├── SWOT ANALYSIS\n",
      "│   ├── Strengths:\n",
      "│   ├── The I\n",
      "│   ├── Weakness:\n",
      "│   ├── As be\n",
      "│   ├── 24 \n",
      "O\n",
      "│   ├── ITIC \n",
      "│   ├── Threats:\n",
      "│   └── As te\n",
      "├── CONCLUSION\n",
      "│   ├── CONCLUSION\n",
      "│   ├── In th\n",
      "│   └── Yrtuy\n",
      "├── RECOMMENDATION\n",
      "│   ├── RECOMMENDATION\n",
      "│   └── I don\n",
      "└── REFRENCES\n",
      "    ├── REFRENCES\n",
      "    └── 1. ww\n"
     ]
    },
    {
     "data": {
      "text/plain": [
       "'45698120.pdf\\n├── ACKNOWLEDGEMENT\\n│   ├── ACKNOWLEDGEMENT\\n│   └── I wou\\n├── EXECUTIVE SUMMARY\\n│   ├── EXECUTIVE SUMMARY\\n│   ├── The m\\n│   └── 4 \\nTa\\n├── OVERVIEW OF THE ORGANIZATION\\n│   ├── BRIEF HISTORY:\\n│   │   ├── BRIEF HISTORY:\\n│   │   └── The I\\n│   ├── INTRODUCTION OF THE ORGANIZATION:\\n│   │   ├── ITIC EDUCATION AND RESEARCH:\\n│   │   │   ├── ITIC EDUCATION AND RESEARCH:\\n│   │   │   ├── Apart\\n│   │   │   └── 6 \\nal\\n│   │   └── ITIC PARTNERS:\\n│   │       └── ITIC PARTNERS:\\n│   ├── ORGANIZATION POLICIES:\\n│   │   ├── ORGANIZATION POLICIES:\\n│   │   ├── The I\\n│   │   ├── Information Technology:\\n│   │   ├── The u\\n│   │   ├── Workplace Behaviour:\\n│   │   └── To ma\\n│   └── COMPETITORS:\\n│       ├── COMPETITORS:\\n│       └── Accor\\n├── ORGANIZATIONAL STRUCTURE\\n│   ├── ORGANIZATIONAL STRUCTURE\\n│   ├── The I\\n│   ├── 8 \\nFu\\n│   └── The s\\n├── PLAN OF INTERNSHIP PROGRAM\\n│   ├── PLAN OF INTERNSHIP PROGRAM\\n│   ├── Home Office:\\n│   ├── The p\\n│   ├── Dates of Internship Plan:\\n│   ├── The p\\n│   ├── Part-time or Full-Time:\\n│   ├── The e\\n│   ├── Department:\\n│   └── This \\n├── TRAINING PROGRAM\\n│   ├── TRAIN\\n│   ├── 11 \\ns\\n│   ├── 12 \\nc\\n│   └── 13 \\nF\\n├── REFLECTIVE JOURNAL ENTRIES\\n│   ├── REFLECTIVE JOURNAL ENTRIES\\n│   ├── The r\\n│   ├── WEEK#07\\n│   ├── In th\\n│   ├── 15 \\nh\\n│   ├── This \\n│   ├── WEEK#08\\n│   ├── The 8\\n│   ├── 16 \\nW\\n│   ├── WEEK#\\n│   ├── 17 \\nW\\n│   ├── The 1\\n│   ├── The 1\\n│   ├── In th\\n│   └── In th\\n├── WORK SAMPLES\\n│   ├── Fig 1.1. Collection of Data\\n│   │   └── Fig 1\\n│   ├── Fig 1.2. Model Training\\n│   │   ├── Fig 1.2. Model Training\\n│   │   ├── 19 \\nS\\n│   │   └── Data Classification:\\n│   ├── Fig 1.3. Data Classification\\n│   │   ├── Fig 1.3. Data Classification\\n│   │   ├── Sample#04\\n│   │   ├── Project Output:\\n│   │   └── 1st P\\n│   ├── Fig 1.4. Project Output\\n│   │   ├── Fig 1.4. Project Output\\n│   │   ├── 20 \\nS\\n│   │   ├── Attendance csv file:\\n│   │   └── It is the screenshot of the attendance csv file.\\n│   └── Fig 1.5. CSV file\\n│       └── Fig 1.5. CSV file\\n├── CRITICAL ANALYSIS\\n│   ├── CRITICAL ANALYSIS\\n│   ├── The c\\n│   ├── This \\n│   ├── The t\\n│   ├── As a \\n│   ├── Furth\\n│   ├── The p\\n│   ├── 22 \\nT\\n│   ├── The o\\n│   ├── The I\\n│   └── I wou\\n├── SWOT ANALYSIS\\n│   ├── SWOT ANALYSIS\\n│   ├── Strengths:\\n│   ├── The I\\n│   ├── Weakness:\\n│   ├── As be\\n│   ├── 24 \\nO\\n│   ├── ITIC \\n│   ├── Threats:\\n│   └── As te\\n├── CONCLUSION\\n│   ├── CONCLUSION\\n│   ├── In th\\n│   └── Yrtuy\\n├── RECOMMENDATION\\n│   ├── RECOMMENDATION\\n│   └── I don\\n└── REFRENCES\\n    ├── REFRENCES\\n    └── 1. ww\\n'"
      ]
     },
     "execution_count": 4,
     "metadata": {},
     "output_type": "execute_result"
    }
   ],
   "source": [
    "from pathlib import Path\n",
    "from ACT.src.act import ACTTree\n",
    "\n",
    "# Load the ACT tree\n",
    "act_tree = ACTTree(Path(file_path))\n",
    "\n",
    "# Plot the ACT tree\n",
    "act_tree.root.print_tree()"
   ]
  },
  {
   "cell_type": "markdown",
   "metadata": {},
   "source": [
    "Then, we save the tree to a JSON file"
   ]
  },
  {
   "cell_type": "code",
   "execution_count": 5,
   "metadata": {},
   "outputs": [],
   "source": [
    "# Export the ACT tree to a JSON file\n",
    "act_tree.export_json(\"ACT.json\")"
   ]
  },
  {
   "cell_type": "code",
   "execution_count": 6,
   "metadata": {},
   "outputs": [
    {
     "data": {
      "text/plain": [
       "True"
      ]
     },
     "execution_count": 6,
     "metadata": {},
     "output_type": "execute_result"
    }
   ],
   "source": [
    "Path('ACT.json').suffix == '.json'"
   ]
  },
  {
   "cell_type": "code",
   "execution_count": 7,
   "metadata": {},
   "outputs": [
    {
     "name": "stdout",
     "output_type": "stream",
     "text": [
      "NodeType.ROOT\n"
     ]
    }
   ],
   "source": [
    "# Read the JSON file and create the ACT tree\n",
    "act_tree = ACTTree(Path(\"ACT.json\"))\n",
    "print(act_tree.root.nodeType)"
   ]
  },
  {
   "cell_type": "code",
   "execution_count": null,
   "metadata": {},
   "outputs": [],
   "source": [
    "# Generate the goals\n",
    "act_tree.generate_goal()"
   ]
  },
  {
   "cell_type": "code",
   "execution_count": 9,
   "metadata": {},
   "outputs": [
    {
     "name": "stdout",
     "output_type": "stream",
     "text": [
      "Node(name=ACKNOWLEDGEMENT, type=NodeType.SECTION, id=1),\n",
      " goal=None,\n",
      " text=ACKNOWLEDGEMENT \n",
      " \n",
      "I would like to start with acknowledge that support and strength given by Almighty and the \n",
      "opportunities granted by GOD along with health and peace.  \n",
      "As being the final semester student of Masters of Data Science from Macquarie University, \n",
      "the support I have been given from the university in all regards no matter what kind of \n",
      "support required, I’ve always been welcomed especially in pandemic over these toughest \n",
      "years is been tremendous. I considered myself lucky to belong this department where I get a \n",
      "chance to be under guidance of Dr. Amin Beheshti, who is always available to support \n",
      "students like me and enlighten me about this opportunity.  \n",
      "Furthermore, I would like to give my upmost regards to the Intuitive technology innovations \n",
      "who selected me to be the part of this learning journey and enhance my skills, either it’s \n",
      "related to learning, presenting or soft skills, Mr. Praneeth Samuel was being in contact from \n",
      "the start and guide me through to understand all the process and help me to make my \n",
      "decision, Ms. Jennifier Yang who is supervising this session program and I would like to give  \n",
      "my sincere regards how manageably she’s handling by so far and giving us learning more \n",
      "out of it under her supervision and always supportive to answer all the queries without any \n",
      "hesitation and she make sure we all are having good time during this program and every \n",
      "session serving its purpose along with she make sure of that we get all the required \n",
      "resources in no time so we can start our work without delaying.  \n",
      "Nonetheless, my mentor Mr. Ivan Bakhshayeshi, who has been an amazing mentor in all \n",
      "regards, he provides us the environment to learn and practice without any judgments and \n",
      "this program wouldn’t be easier without his efforts and support., page=2\n"
     ]
    }
   ],
   "source": [
    "# Export the tree again to see the goals\n",
    "act_tree.export_json(\"ACT.json\")\n",
    "\n",
    "# View the goal for example:\n",
    "print(act_tree.root.children[0])"
   ]
  },
  {
   "cell_type": "markdown",
   "metadata": {},
   "source": [
    "We can give example for the act assistant"
   ]
  },
  {
   "cell_type": "code",
   "execution_count": null,
   "metadata": {},
   "outputs": [],
   "source": [
    "from ACT.src.assistant import ACTAssistant\n",
    "\n",
    "example_input = \"\"\"\n",
    "The motive of this report is to shed the light over what I have done over last six weeks of my\n",
    "internship program at Intuitive Technology Innovation Pty Ltd. Which is based in Sydney, \n",
    "Australia.  \n",
    "This report has information about the Intuitive technology innovations Pty Ltd. history, \n",
    "introduction, policies and their competitors and all the details about the internship \n",
    "program, the work I have performed, program timeline, duties, assigned tasks and learned \n",
    "tools.  \n",
    "Additionally, it also holds the information of reflective journal for last six weeks of this \n",
    "internship program which includes student’s experience over all these past weeks in \n",
    "detailed. Furthermore, this report also includes some informant analysis that are Critical \n",
    "analysis and SWOT analysis. Basically, the critical analysis has the power to judge the \n",
    "comparison between theoretical knowledge as compare to internship work while SWOT \n",
    "analysis helps to describes strengths, weaknesses, opportunities and threats of the \n",
    "organisation. The last part of this report has conclusion which states the sum of this report, \n",
    "recommendation part holds the suggestions over the highlighted problems mentioned in \n",
    "the SWOT analysis and then we have reference’s part where you can find all the resources\n",
    "which helps me through collect the data for this report.\"\"\"\n",
    "\n",
    "example_output = \"\"\"\n",
    "- The report aims to detail the author's experiences and contributions during a six-week internship at Intuitive Technology Innovation Pty Ltd in Sydney, \n",
    "including an overview of the company, the internship's specifics such as duties and tools learned, reflective journal entries, \n",
    "analyses comparing theoretical and practical knowledge, and a SWOT analysis of the organization. \n",
    "The conclusion summarizes the report, offers recommendations based on the SWOT analysis findings, and includes a reference section listing the resources used.\n",
    "\"\"\"\n",
    "\n",
    "act_assistant = ACTAssistant()\n",
    "act_assistant.add_example_to_thread(example_input=example_input, example_output=example_output)\n",
    "act_assistant.run_assistant_single_paragraph(instructions=\"Follow this example\")"
   ]
  },
  {
   "cell_type": "markdown",
   "metadata": {},
   "source": [
    "Then, we try to generate the goal of the tree again and see if there is a difference"
   ]
  },
  {
   "cell_type": "code",
   "execution_count": null,
   "metadata": {},
   "outputs": [],
   "source": [
    "# Generate the goals\n",
    "act_tree.generate_goal()\n",
    "\n",
    "# View the goal for example:\n",
    "print(act_tree.root.children[0])"
   ]
  },
  {
   "cell_type": "markdown",
   "metadata": {},
   "source": [
    "## 2. Topic Modelling"
   ]
  },
  {
   "cell_type": "markdown",
   "metadata": {},
   "source": [
    "The same apply for topic modelling assistant"
   ]
  },
  {
   "cell_type": "code",
   "execution_count": null,
   "metadata": {},
   "outputs": [],
   "source": [
    "\n",
    "\n",
    "from topic_modelling.assistant import TM_Assistant\n",
    "\n",
    "\n",
    "assistant = TM_Assistant()\n",
    "\n",
    "SAMPLE_PARAGRAPH =  \"\"\"\n",
    "The Document should have a Work Sample Section(essential)\n",
    "Work sample Section should cover 2 example of the student's work (such as news stories, articles, interviews, projects etc.)\n",
    "work Example 1 And work Example 2 sould cover these content:\n",
    "short description of your role in that work sample\n",
    "how you used the sample.\n",
    "\"\"\"\n",
    "\n",
    "\n",
    "example_input = \"\"\"\n",
    "The Document should have title page (essential).\n",
    "(No title page, then -10%)\n",
    "The title page of the report must include:\n",
    "a. Name of the organization\n",
    "b. Name of the internee, Student ID and session\n",
    "c. Submission date of the internship report\n",
    "d. Name of the University\n",
    "\"\"\"\n",
    "\n",
    "example_output = \"\"\"\n",
    "*Existing Title Page Section\n",
    "*Existing Name of the organization\n",
    "*Existing Name of the internee, Student ID and session\n",
    "*Existing Submission date of the internship report\n",
    "*Existing  Name of the University\n",
    "\"\"\"\n",
    "\n",
    "# Add the example for the assistant\n",
    "assistant.add_example_to_thread(example_input, example_output)\n",
    "# assistant.add_message_to_thread(\"Paragraph:\\n\" + SAMPLE_PARAGRAPH)\n",
    "assistant.run_assistant_single_text(instructions=\"Follow this example\")\n",
    "\n"
   ]
  },
  {
   "cell_type": "code",
   "execution_count": null,
   "metadata": {},
   "outputs": [],
   "source": [
    "assistant.add_message_to_thread(\"Input:\\n\" + SAMPLE_PARAGRAPH)\n",
    "# print(assistant.run_assistant_single_text(instructions=None))"
   ]
  },
  {
   "cell_type": "markdown",
   "metadata": {},
   "source": [
    "## 3. Context Similarity\n"
   ]
  },
  {
   "cell_type": "markdown",
   "metadata": {},
   "source": [
    "### Sample DataFrame Creation\n",
    "\n",
    "In this cell, we import the pandas library and create a sample dataframe using the `pd.DataFrame()` function. The dataframe contains information about individuals including their names, ages, and genders. We then print the dataframe to display the data.\n"
   ]
  },
  {
   "cell_type": "code",
   "execution_count": null,
   "metadata": {},
   "outputs": [],
   "source": [
    "paragraph_list = [\n",
    "    \"During the seventh week of the internship program, I became familiar with the indicators of Compromise (IOC) in a digital forensic process and what role does it plays in the investigation process. There were multiple aspects that were covered throughout this week such as- the potential signs of compromise in a network, the process of network monitoring to identify the indicator of compromise, the process of gathering the evidence and also the process of extracting some valuable leads from that evidence that can help in solving the digital forensic case. Along with that, there are numerous war rooms scenarios designed for students, each focusing on a particular subject such as network analysis, forensics analysis, Linux foundations, system analysis, scripting, and PowerShell basics. I concentrated on Battle Room 9 this week. The main goal of this week’s internship were:  To understand the basics of the Indicators of Compromise in a cyber-incident, On Friday, I gave a talk about one of the tasks I accomplished in battle room 9, finding the laptop's registered owner. To inspect registry hives, I used Registry Explorer, an open-source program. I used the local workstation of Steve Laptop to load the SYSTEM register hive and to learn about the procedure to identify the IOCs, the criteria of its identification and also the process of its verification. The learning of activities and the fulfillment of these goals gave the following outcomes after the end of this week: At the end of this week, I was aware of the basic concept of the IOCs in a forensic process which includes unusual outbound network traffic, sales in the database read volume, mismatched port application traffic etc. which are also considered as the potential signs of IOCs, the process of identifying these IOC are also learnt and I was able to identify these IOCs after the completion of this week The life cycle includes- gathering data from the initial leads, create or edit the IOCs which includes verification of the IOCs and then the final step is to publish the IOCs (Domingues et al., 2023) and I finished quizzes on the danger landscape and creating a successful reaction strategy on our ITIC LMS platform.\",\n",
    "    \"Amid week 6, I met Anya Chung, who was making a difference with the CarClarity scene report. As a portion of my work, I considered the scene visualizations and the reports she had as of now made, proposing enhancements that can be made and what ought to be actualized for future reports. I proposed the dashboard we required for our accomplices and the fundamental information for the report, making a test report on Exceed expectations to appear her. In another task, I found some null information in a few columns within the information distribution center, and I detailed my investigation to Sam, who clarified the rationale behind the column being invalid and the reason. Moreover, I got criticism on my midterm introduction from Sam, who given fundamental changes that required to be made. Additionally, I made a Salesforce report for the promoting group, assessing the execution of the Klaviyo promoting stage within the final three months, and making a media arrange for the up-and-coming quarters. In conclusion, I made a renegotiate report that secured the taking after focuses: how numerous renegotiate leads and settlements have we gotten over the past 12 months, required by month; how numerous renegotiate leads came through our renegotiate landing page on our site, too by month; and with the renegotiate leads, where are they coming from? Direct/Google, accomplices, etc. Part of the channels. During this week, I learned the significance of paying consideration to detail and being careful in analyzing information. By finding the invalid information within the information distribution center and announcing it to Sam, I realized the value of having a tutor who can clarify the thinking behind certain choices or information focuses. When making reports, such as the renegotiate report, I had to create beyond any doubt that I caught on the essential information focuses and how to show them successfully. In working with Anya, I moreover learned the significance of communicating thoughts and collaborating viably to make impactful reports. By and large, I found week 6 to be a productive and quick week. The errands doled out to me required a tall level of consideration to detail and understanding of the information sources. My intuition with Sam and Anya showed me the significance of working collaboratively to attain the task's objectives and looking for criticism to progress my work. The renegotiate report and Salesforce report made a difference in my knowledge and abilities in displaying information successfully, which can be advantageous in my future work.\",\n",
    "    \"In this week, a new task was given to me. The task given to me was to collect the data of all the people who have done their internship from Reesby IoT Recruitment Agency and have listed it on their experience from Linkedin. The task assigned to me was to obtain all the data of all the people who have done their internship from Reesby IoT Recruitment Agency and have listed it on their experience from Linkedin. This wasn’t an easy task as it seems which I realised while I was working through it. The project was to collect all the data available on the person which translates to getting all information such as is the person male or a female? Is the person in Australia? If the person is in Australia, which city is the person living in? What is the highest educational qualification? When did the person start their internship with Reesby IoT Recruitment Agency? When did the person finish their internship with Reesby IoT Recruitment Agency? How long did the person had to wait until they landed their job? Are they still continuing their job where they landed their job or have, they changed their job? If they have changed their job, did change the field of their job or is the field same? How many times did they change their job? What is the biggest brand they have worked for up until now? What is the ethnic background of the person? These are just some of the main pertinent questions to the analysis. I was not able to use the web scraper here as LinkedIn blocks all sorts of scrapers. So, this task has to be done manually and I did it during this whole week as there were many people who have completed their internship. This whole week was just to collect the data from LinkedIn\",\n",
    "    \"One of my primary goals was to create a report for the finance department and learn SQL, a skill I had yet to acquire. This project aimed to provide valuable insights to the finance team while also allowing me to expand my skill set and gain practical experience in database management. To achieve this goal, I participated in several activities, including a meeting with my supervisor to discuss the project requirements, timeline, and expectations. My supervisor provided me with guidance and support throughout the task, ensuring that I was well-equipped to deliver the report successfully and learn the necessary SQL skills. In addition to meeting with my supervisor, I attended a workshop on advanced SQL techniques, titled 'Advanced SQL II.' This workshop helped me build upon my existing data analysis skills and equipped me with the necessary knowledge to work with databases, perform complex queries, and manipulate data using SQL. After acquiring the necessary SQL skills and knowledge, I began working on the report for the finance department. I analysed the data, extracted relevant information using SQL queries, and created visualisations to highlight trends and patterns in the financial data. I then designed an interactive dashboard with multiple views, advanced filters, and parameters, providing users with a more immersive and engaging experience. Upon completing the report, I uploaded it to the Domain server, making it accessible to the relevant stakeholders within the finance department. The successful completion of this project allowed me to gain advanced SQL skills and develop a good understanding of database management. During the process, I also learned how to update databases, which further enhanced my knowledge and skills in database management. This hands-on experience in working with real-world databases not only improved my technical abilities but also gave me the confidence to tackle similar projects in the future.\"\n",
    "]\n",
    "\n",
    "#First sample list to check\n",
    "library_sample_check_list = [\n",
    "    \"One of my primary goals was to create a report for the finance department and learn SQL, a skill I had yet to acquire. This project aimed to provide valuable insights to the finance team while also allowing me to expand my skill set and gain practical experience in database management. To achieve this goal, I participated in several activities, including a meeting with my supervisor to discuss the project requirements, timeline, and expectations. My supervisor provided me with guidance and support throughout the task, ensuring that I was well-equipped to deliver the report successfully and learn the necessary SQL skills. In addition to meeting with my supervisor, I attended a workshop on advanced SQL techniques, titled 'Advanced SQL II.' This workshop helped me build upon my existing data analysis skills and equipped me with the necessary knowledge to work with databases, perform complex queries, and manipulate data using SQL. After acquiring the necessary SQL skills and knowledge, I began working on the report for the finance department. I analysed the data, extracted relevant information using SQL queries, and created visualisations to highlight trends and patterns in the financial data. I then designed an interactive dashboard with multiple views, advanced filters, and parameters, providing users with a more immersive and engaging experience. Upon completing the report, I uploaded it to the Domain server, making it accessible to the relevant stakeholders within the finance department. The successful completion of this project allowed me to gain advanced SQL skills and develop a good understanding of database management. During the process, I also learned how to update databases, which further enhanced my knowledge and skills in database management. This hands-on experience in working with real-world databases not only improved my technical abilities but also gave me the confidence to tackle similar projects in the future.\",\n",
    "    \"I would like to express my deepest gratitude to Suyash, Gilmar, Phuong, Hieu, and Ahmad from Domain Group Australia for their invaluable help and guidance during the past 7 weeks. Their expertise, support, and encouragement have been instrumental in my growth and learning throughout this period. In addition, I am extremely thankful for the assistance provided by the Unit Convenor of Internship at Macquarie University, Amin, whose efforts have significantly contributed to the success of this experience. I am truly fortunate to have had the opportunity to learn from and work with such dedicated professionals, and I am confident that the knowledge and skills I have gained will serve me well in my future endeavours.\",\n",
    "    \"Prioritise time management and work-life balance: Encourage employees to effectively balance their workload, personal commitments, and other responsibilities. This may include offering flexible working hours, providing time management training, or promoting a culture of open communication around workload expectations. Expand training and development opportunities: Continue investing in employee development through workshops, training sessions, and mentorship programs. Offering additional training opportunities in emerging technologies and industry trends will help employees stay ahead in their careers and contribute more effectively to the company's success. Evaluate and improve internal processes: Regularly assess the effectiveness of internal processes and workflows, and make improvements where necessary. This may include implementing more efficient project management methodologies, improving communication channels, or updating technology infrastructure.\",\n",
    "    \"Domain Group Australia, a prominent property and technology group, has been a key player in the Australian real estate market since its founding in 1994. Initially a print publication called Domain under Fairfax Media, the company focused on offering property listings and insights to the public. Over time, Domain evolved and adapted to industry changes, harnessing technological advancements to enhance its services. In 1999, Domain launched its first online platform, domain.com.au, providing a digital space for property listings and related information. This marked the beginning of Domain's transformation into a technology-driven company, ensuring its relevance in Australia's dynamic real estate market. Over the next decade, Domain expanded its online presence and improved its platform through innovative features and services. Acquisitions and strategic partnerships fueled this growth, enabling Domain to diversify its offerings and solidify its industry position. Notable acquisitions include Property Data Solutions (PDS) in 2006 and Home Price Guide in 2008, which provided data, mapping, and property valuation services.\",\n",
    "    \"Domain Group is dedicated to protecting the privacy and personal information of its users. Their privacy policy outlines the types of information they collect, how it is used, and the measures taken to safeguard it. Domain is committed to complying with the Australian Privacy Principles (APPs) and other relevant privacy regulations.\",\n",
    "    \"This department is responsible for driving revenue growth, promoting Domain's products and services, and acquiring new customers. The sales team works closely with real estate agents, property developers, and other stakeholders to identify their needs and offer tailored solutions.\"\n",
    "]\n",
    "\n",
    "#Second sample with different sections of the document that does not relate to the title\n",
    "library_sample_check_list_2 = [\n",
    "    \"In this week, a new task was given to me. The task given to me was to collect the data of all the people who have done their internship from Reesby IoT Recruitment Agency and have listed it on their experience from Linkedin. The task assigned to me was to obtain all the data of all the people who have done their internship from Reesby IoT Recruitment Agency and have listed it on their experience from Linkedin. This wasn’t an easy task as it seems which I realised while I was working through it. The project was to collect all the data available on the person which translates to getting all information such as is the person male or a female? Is the person in Australia? If the person is in Australia, which city is the person living in? What is the highest educational qualification? When did the person start their internship with Reesby IoT Recruitment Agency? When did the person finish their internship with Reesby IoT Recruitment Agency? How long did the person had to wait until they landed their job? Are they still continuing their job where they landed their job or have, they changed their job? If they have changed their job, did change the field of their job or is the field same? How many times did they change their job? What is the biggest brand they have worked for up until now? What is the ethnic background of the person? These are just some of the main pertinent questions to the analysis. I was not able to use the web scraper here as LinkedIn blocks all sorts of scrapers. So, this task has to be done manually and I did it during this whole week as there were many people who have completed their internship. This whole week was just to collect the data from LinkedIn\",\n",
    "    \"Reesby was established in 2016 in Melbourne. The company is an innovative and premium recruitment and employment services agency. It operates globally and has collaborated with big brands such as Microsoft, Amazon, Coles, NAB, DefenceForce Australia, and more. With a female executive team and strong culture for diversity Reesby have been nominated for many awards for their services and technology product developments and training programs.\",\n",
    "    \"The company needs to hire more permenant employees in order to scale the company. The company should build robust cyber security network so that threats from scammers can be neautralised easily. The company needs to focus on the data integrity when the access ID given to interns who have joined. A robust background check should be done to anyone who applies to be an intern. These are the recommendations to the company.\",\n",
    "    \"Events and Event Planning which focuses on running a community focused events in collaboration with other companies to create tailored events in person and online. For instance, the most recent event that the company has organized is the cybersecurity event where in companies looking for job seekers with skills in cyber security was held.\",\n",
    "    \"From the starting of my internship with Reesby IoT Recruitment Agency, I have been involved with two tasks. The very first task I was assigned was a data acquisition task which was to collect the data from the all the job searching websites for the following roles, Chief Technology Officer, Business Development Manager, Director of Operations, Chief of Staff, Chief Strategy Office, Chief Administrative Officer, General Manager, Vice President of Operations, Chief Transformation Officer, Chief Customer Officer, Chief Experience Officer for the executive roles. Operations Manager, Service Operations Manager, Customer Service Manager, Delivery Manager, IT Service Manager, Client Services Manager, Service Support Manager, Customer Experience Manager, Service Desk Manager for service delivery manager roles and many more . Then I got to work collecting the data from all those job listing websites. Once the data was collected, it was made into a report and submitted it to the concerned person.\"\n",
    "]\n",
    "\n",
    "#Third sample with different sections of the document that does not relate to the title\n",
    "library_sample_check_list_3 = [\n",
    "    \"Amid week 6, I met Anya Chung, who was making a difference with the CarClarity scene report. As a portion of my work, I considered the scene visualizations and the reports she had as of now made, proposing enhancements that can be made and what ought to be actualized for future reports. I proposed the dashboard we required for our accomplices and the fundamental information for the report, making a test report on Exceed expectations to appear her. In another task, I found some null information in a few columns within the information distribution center, and I detailed my investigation to Sam, who clarified the rationale behind the column being invalid and the reason. Moreover, I got criticism on my midterm introduction from Sam, who given fundamental changes that required to be made. Additionally, I made a Salesforce report for the promoting group, assessing the execution of the Klaviyo promoting stage within the final three months, and making a media arrange for the up-and-coming quarters. In conclusion, I made a renegotiate report that secured the taking after focuses: how numerous renegotiate leads and settlements have we gotten over the past 12 months, required by month; how numerous renegotiate leads came through our renegotiate landing page on our site, too by month; and with the renegotiate leads, where are they coming from? Direct/Google, accomplices, etc. Part of the channels. During this week, I learned the significance of paying consideration to detail and being careful in analyzing information. By finding the invalid information within the information distribution center and announcing it to Sam, I realized the value of having a tutor who can clarify the thinking behind certain choices or information focuses. When making reports, such as the renegotiate report, I had to create beyond any doubt that I caught on the essential information focuses and how to show them successfully. In working with Anya, I moreover learned the significance of communicating thoughts and collaborating viably to make impactful reports. By and large, I found week 6 to be a productive and quick week. The errands doled out to me required a tall level of consideration to detail and understanding of the information sources. My intuition with Sam and Anya showed me the significance of working collaboratively to attain the task's objectives and looking for criticism to progress my work. The renegotiate report and Salesforce report made a difference in my knowledge and abilities in displaying information successfully, which can be advantageous in my future work.\",\n",
    "    \"I would like to precise my true appreciation to the taking after individuals who made noteworthy commitments to this report: Adam Israel, Installments Master at CarClarity; Yijia (Bella) Client Interface Architect Zhang UI/UX Designer at CarClarity; Phil O'Connor, Head of Promoting at CarClarity; Joseph Vu, Item Chief at CarClarity, and Sam Khadivizand, Data Scientist at CarClarity. Their important commitments in terms of ability, counsel, and comments contributed enormously to the victory of this report. Their polished skill and commitment to the extent are excellent, and I could not have inquired for a distant better; much better; higher; stronger; improved group. Their mastery and information in their areas greatly contributed to the quality of the report, and their readiness to share their views and concepts was a source of inspiration. Their useful input and bolster all through the method was priceless and much acknowledged.\",\n",
    "    \"CarClarity ought to investigate openings to extend its assets in arrange to contribute to unused advances, promoting campaigns, and other activities that may help it grow its reach and move forward with its administrations. This may incorporate looking for out unused speculators or associations, as well as investigating elective sources of financing such as gifts or advances. In arranging to compete with bigger and more built-up competitors, CarClarity ought to center on moving forward with its client involvement. This might incorporate contributing to user-friendly innovation and interfacing, giving comprehensive and opportune client bolster, and advertising competitive intrigued rates and credit terms.\",\n",
    "    \"CarClarity is a car Loan Platform that was propelled in 2020 by its founders, Zaheer Jappie (CEO), Luke Scott (CTO), and David Fahim (COO). The platform was planned to rearrange the method of choosing a car loan, by providing clients with access to 30+ moneylenders with a few of the foremost competitive rates within Australian advertising. The establishing group of CarClarity pointed to bringing world-class designing and customer-obsessed operations to their clients, with the objective of diminishing the potential stresses that come with applying for unused car credit. The company's center on client benefit and providing easy get-to-do run of car advance alternatives has made a difference it rapidly set up a solid nearness within the Australian Market.\",\n",
    "    \"The marketing team at CarClarity is responsible for driving awareness and demand for the company's services. Led by Bridget Devlin, the team consists of creative professionals who work together to develop compelling campaigns and strategies that resonate with potential customers. From graphic designers to digital marketing managers, each member of the team plays a critical role in shaping CarClarity's messaging and driving growth.\"\n",
    "]\n",
    "#Final sample with different sections of the document that does not relate to the title\n",
    "library_sample_check_list_4 = [\n",
    "    \"During the seventh week of the internship program, I became familiar with the indicators of Compromise (IOC) in a digital forensic process and what role does it plays in the investigation process. There were multiple aspects that were covered throughout this week such as- the potential signs of compromise in a network, the process of network monitoring to identify the indicator of compromise, the process of gathering the evidence and also the process of extracting some valuable leads from that evidence that can help in solving the digital forensic case. Along with that, there are numerous war rooms scenarios designed for students, each focusing on a particular subject such as network analysis, forensics analysis, Linux foundations, system analysis, scripting, and PowerShell basics. I concentrated on Battle Room 9 this week. The main goal of this week’s internship were:  To understand the basics of the Indicators of Compromise in a cyber-incident, On Friday, I gave a talk about one of the tasks I accomplished in battle room 9, finding the laptop's registered owner. To inspect registry hives, I used Registry Explorer, an open-source program. I used the local workstation of Steve Laptop to load the SYSTEM register hive and to learn about the procedure to identify the IOCs, the criteria of its identification and also the process of its verification. The learning of activities and the fulfillment of these goals gave the following outcomes after the end of this week: At the end of this week, I was aware of the basic concept of the IOCs in a forensic process which includes unusual outbound network traffic, sales in the database read volume, mismatched port application traffic etc. which are also considered as the potential signs of IOCs, the process of identifying these IOC are also learnt and I was able to identify these IOCs after the completion of this week The life cycle includes- gathering data from the initial leads, create or edit the IOCs which includes verification of the IOCs and then the final step is to publish the IOCs (Domingues et al., 2023) and I finished quizzes on the danger landscape and creating a successful reaction strategy on our ITIC LMS platform.\",\n",
    "    \"During the time of my internship, I received a ton of support and assistance from my colleagues and also form the ITIC team. Firstly, I want to thank ITIC group for giving this wonderful opportunity and making me a part of the internship and secondly, I want to extend my gratitude to Macquarie university for allowing me to pursue this internship program which helped me to gain a strong practical knowledge and as well as theoretical knowledge. In addition, I would like to express my profound gratitude to my mentor, Stephen Elbourn, for his valuable support throughout the internship. His experience and expertise have had a huge impact on how I perceive the sector. Also, I would like to convey my gratitude to Dr. Amin Beheshti, the convenor of my unit, for his assistance and answers to my enquiries. Finally, I would like to thank my friends, colleagues and family who encouraged me to focus on my studies all the time. They supported me emotionally and financially throughout my degree.\",\n",
    "    \"More investment sin their security infrastructure to keep their research work and also the details of their customers and partners secure from any unauthorized interferences. Also, they require more technically skilled workforce in order to meet the changing and increasing demands in the future because with the current work force it will be tough for the company to manage all of their operations related to their software system development, networking, technological solutions, AI research and educational training programs.\",\n",
    "    \"ITIC is an IT based company which provides the technologies which includes the technologies like Cloud, Security, Software Development, Artificial Intelligence and Data Science. ITIC is a premier training organization which provides IT training, IT support and the project implementation services throughout Australia and New Zealand. The organization is also one of the largest entities in Australia to conduct and host the exams from Pearson, PSI, Kryterion and Prometric. The organization also offers the internships to the college students and provides the students with the knowledge of the various IT technologies. ITIC operates from the three subsidiaries known as ITIC Education, ITIC Research, ITIC Systems\",\n",
    "    \"The corporation keeps ownership rights to the data. The Intuitive Technology Innovations Pty Ltd IT system should not be used to access, store, or distribute anything or information that employees do not want the firm to see or hear. Access to or delivery of electronic material (including emails and internet websites) that may violate any of Intuitive Technology Innovations Pty Ltd.’s policies may be banned if the firm feels it is necessary and permitted by law\",\n",
    "    \"ITIC Research, an industry stream of the AI enabled Process (AIP) Research Centre, has awarded Macquarie University a four-year research grant for the 'Intelligence-led Learning and Teaching' project. The fundamental purpose of this research is to advance scientific understanding of intelligent and AI-enabled learning and teaching. It could be used to discover new artificial intelligence and data science applications in education. Businesses are employing artificial intelligence and data science to fundamentally change operations, such as assisting staff in communicating analysis and making decisions\"\n",
    "]\n",
    "\n",
    "#title = \"What are student's recommendation about the improvements that can be done with their respective companies.\"\n",
    "title = 'Provide a detailed description of the project conducted during the internship and its overall expectations.'"
   ]
  },
  {
   "cell_type": "markdown",
   "metadata": {},
   "source": [
    "### First approach for the problem - Prithivi\n"
   ]
  },
  {
   "cell_type": "code",
   "execution_count": null,
   "metadata": {},
   "outputs": [
    {
     "name": "stderr",
     "output_type": "stream",
     "text": [
      "/Users/dannguyen/Yirigaa/major_project/.venv/lib/python3.9/site-packages/urllib3/__init__.py:35: NotOpenSSLWarning: urllib3 v2 only supports OpenSSL 1.1.1+, currently the 'ssl' module is compiled with 'LibreSSL 2.8.3'. See: https://github.com/urllib3/urllib3/issues/3020\n",
      "  warnings.warn(\n"
     ]
    }
   ],
   "source": [
    "from sentence_transformers import SentenceTransformer, util\n",
    "\n",
    "# Function to check the similarity of the title with the paragraphs\n",
    "def library_sample_check_function_new_sentence_model(library_sample_check_list, title):\n",
    "    model = SentenceTransformer('all-mpnet-base-v2')\n",
    "    title_encoded = model.encode(title)\n",
    "    paragraph_dict = {}\n",
    "    for paragraph in library_sample_check_list:\n",
    "        paragraph_encoded = model.encode(paragraph)\n",
    "        similarity_score = round(util.pytorch_cos_sim(title_encoded, paragraph_encoded).item() * 100)\n",
    "        paragraph_dict[paragraph] = similarity_score\n",
    "    return paragraph_dict\n"
   ]
  },
  {
   "cell_type": "code",
   "execution_count": null,
   "metadata": {},
   "outputs": [
    {
     "data": {
      "application/vnd.jupyter.widget-view+json": {
       "model_id": "db81bd489a564641a76720fb9ba2cf9b",
       "version_major": 2,
       "version_minor": 0
      },
      "text/plain": [
       "model.safetensors:   0%|          | 0.00/438M [00:00<?, ?B/s]"
      ]
     },
     "metadata": {},
     "output_type": "display_data"
    },
    {
     "name": "stdout",
     "output_type": "stream",
     "text": [
      "{\"One of my primary goals was to create a report for the finance department and learn SQL, a skill I had yet to acquire. This project aimed to provide valuable insights to the finance team while also allowing me to expand my skill set and gain practical experience in database management. To achieve this goal, I participated in several activities, including a meeting with my supervisor to discuss the project requirements, timeline, and expectations. My supervisor provided me with guidance and support throughout the task, ensuring that I was well-equipped to deliver the report successfully and learn the necessary SQL skills. In addition to meeting with my supervisor, I attended a workshop on advanced SQL techniques, titled 'Advanced SQL II.' This workshop helped me build upon my existing data analysis skills and equipped me with the necessary knowledge to work with databases, perform complex queries, and manipulate data using SQL. After acquiring the necessary SQL skills and knowledge, I began working on the report for the finance department. I analysed the data, extracted relevant information using SQL queries, and created visualisations to highlight trends and patterns in the financial data. I then designed an interactive dashboard with multiple views, advanced filters, and parameters, providing users with a more immersive and engaging experience. Upon completing the report, I uploaded it to the Domain server, making it accessible to the relevant stakeholders within the finance department. The successful completion of this project allowed me to gain advanced SQL skills and develop a good understanding of database management. During the process, I also learned how to update databases, which further enhanced my knowledge and skills in database management. This hands-on experience in working with real-world databases not only improved my technical abilities but also gave me the confidence to tackle similar projects in the future.\": 38, 'I would like to express my deepest gratitude to Suyash, Gilmar, Phuong, Hieu, and Ahmad from Domain Group Australia for their invaluable help and guidance during the past 7 weeks. Their expertise, support, and encouragement have been instrumental in my growth and learning throughout this period. In addition, I am extremely thankful for the assistance provided by the Unit Convenor of Internship at Macquarie University, Amin, whose efforts have significantly contributed to the success of this experience. I am truly fortunate to have had the opportunity to learn from and work with such dedicated professionals, and I am confident that the knowledge and skills I have gained will serve me well in my future endeavours.': 52, \"Prioritise time management and work-life balance: Encourage employees to effectively balance their workload, personal commitments, and other responsibilities. This may include offering flexible working hours, providing time management training, or promoting a culture of open communication around workload expectations. Expand training and development opportunities: Continue investing in employee development through workshops, training sessions, and mentorship programs. Offering additional training opportunities in emerging technologies and industry trends will help employees stay ahead in their careers and contribute more effectively to the company's success. Evaluate and improve internal processes: Regularly assess the effectiveness of internal processes and workflows, and make improvements where necessary. This may include implementing more efficient project management methodologies, improving communication channels, or updating technology infrastructure.\": 34, \"Domain Group Australia, a prominent property and technology group, has been a key player in the Australian real estate market since its founding in 1994. Initially a print publication called Domain under Fairfax Media, the company focused on offering property listings and insights to the public. Over time, Domain evolved and adapted to industry changes, harnessing technological advancements to enhance its services. In 1999, Domain launched its first online platform, domain.com.au, providing a digital space for property listings and related information. This marked the beginning of Domain's transformation into a technology-driven company, ensuring its relevance in Australia's dynamic real estate market. Over the next decade, Domain expanded its online presence and improved its platform through innovative features and services. Acquisitions and strategic partnerships fueled this growth, enabling Domain to diversify its offerings and solidify its industry position. Notable acquisitions include Property Data Solutions (PDS) in 2006 and Home Price Guide in 2008, which provided data, mapping, and property valuation services.\": -2, 'Domain Group is dedicated to protecting the privacy and personal information of its users. Their privacy policy outlines the types of information they collect, how it is used, and the measures taken to safeguard it. Domain is committed to complying with the Australian Privacy Principles (APPs) and other relevant privacy regulations.': 5, \"This department is responsible for driving revenue growth, promoting Domain's products and services, and acquiring new customers. The sales team works closely with real estate agents, property developers, and other stakeholders to identify their needs and offer tailored solutions.\": 16}\n",
      "{'In this week, a new task was given to me. The task given to me was to collect the data of all the people who have done their internship from Reesby IoT Recruitment Agency and have listed it on their experience from Linkedin. The task assigned to me was to obtain all the data of all the people who have done their internship from Reesby IoT Recruitment Agency and have listed it on their experience from Linkedin. This wasn’t an easy task as it seems which I realised while I was working through it. The project was to collect all the data available on the person which translates to getting all information such as is the person male or a female? Is the person in Australia? If the person is in Australia, which city is the person living in? What is the highest educational qualification? When did the person start their internship with Reesby IoT Recruitment Agency? When did the person finish their internship with Reesby IoT Recruitment Agency? How long did the person had to wait until they landed their job? Are they still continuing their job where they landed their job or have, they changed their job? If they have changed their job, did change the field of their job or is the field same? How many times did they change their job? What is the biggest brand they have worked for up until now? What is the ethnic background of the person? These are just some of the main pertinent questions to the analysis. I was not able to use the web scraper here as LinkedIn blocks all sorts of scrapers. So, this task has to be done manually and I did it during this whole week as there were many people who have completed their internship. This whole week was just to collect the data from LinkedIn': 47, 'Reesby was established in 2016 in Melbourne. The company is an innovative and premium recruitment and employment services agency. It operates globally and has collaborated with big brands such as Microsoft, Amazon, Coles, NAB, DefenceForce Australia, and more. With a female executive team and strong culture for diversity Reesby have been nominated for many awards for their services and technology product developments and training programs.': 14, 'The company needs to hire more permenant employees in order to scale the company. The company should build robust cyber security network so that threats from scammers can be neautralised easily. The company needs to focus on the data integrity when the access ID given to interns who have joined. A robust background check should be done to anyone who applies to be an intern. These are the recommendations to the company.': 53, 'Events and Event Planning which focuses on running a community focused events in collaboration with other companies to create tailored events in person and online. For instance, the most recent event that the company has organized is the cybersecurity event where in companies looking for job seekers with skills in cyber security was held.': 26, 'From the starting of my internship with Reesby IoT Recruitment Agency, I have been involved with two tasks. The very first task I was assigned was a data acquisition task which was to collect the data from the all the job searching websites for the following roles, Chief Technology Officer, Business Development Manager, Director of Operations, Chief of Staff, Chief Strategy Office, Chief Administrative Officer, General Manager, Vice President of Operations, Chief Transformation Officer, Chief Customer Officer, Chief Experience Officer for the executive roles. Operations Manager, Service Operations Manager, Customer Service Manager, Delivery Manager, IT Service Manager, Client Services Manager, Service Support Manager, Customer Experience Manager, Service Desk Manager for service delivery manager roles and many more . Then I got to work collecting the data from all those job listing websites. Once the data was collected, it was made into a report and submitted it to the concerned person.': 49}\n",
      "{\"Amid week 6, I met Anya Chung, who was making a difference with the CarClarity scene report. As a portion of my work, I considered the scene visualizations and the reports she had as of now made, proposing enhancements that can be made and what ought to be actualized for future reports. I proposed the dashboard we required for our accomplices and the fundamental information for the report, making a test report on Exceed expectations to appear her. In another task, I found some null information in a few columns within the information distribution center, and I detailed my investigation to Sam, who clarified the rationale behind the column being invalid and the reason. Moreover, I got criticism on my midterm introduction from Sam, who given fundamental changes that required to be made. Additionally, I made a Salesforce report for the promoting group, assessing the execution of the Klaviyo promoting stage within the final three months, and making a media arrange for the up-and-coming quarters. In conclusion, I made a renegotiate report that secured the taking after focuses: how numerous renegotiate leads and settlements have we gotten over the past 12 months, required by month; how numerous renegotiate leads came through our renegotiate landing page on our site, too by month; and with the renegotiate leads, where are they coming from? Direct/Google, accomplices, etc. Part of the channels. During this week, I learned the significance of paying consideration to detail and being careful in analyzing information. By finding the invalid information within the information distribution center and announcing it to Sam, I realized the value of having a tutor who can clarify the thinking behind certain choices or information focuses. When making reports, such as the renegotiate report, I had to create beyond any doubt that I caught on the essential information focuses and how to show them successfully. In working with Anya, I moreover learned the significance of communicating thoughts and collaborating viably to make impactful reports. By and large, I found week 6 to be a productive and quick week. The errands doled out to me required a tall level of consideration to detail and understanding of the information sources. My intuition with Sam and Anya showed me the significance of working collaboratively to attain the task's objectives and looking for criticism to progress my work. The renegotiate report and Salesforce report made a difference in my knowledge and abilities in displaying information successfully, which can be advantageous in my future work.\": 42, \"I would like to precise my true appreciation to the taking after individuals who made noteworthy commitments to this report: Adam Israel, Installments Master at CarClarity; Yijia (Bella) Client Interface Architect Zhang UI/UX Designer at CarClarity; Phil O'Connor, Head of Promoting at CarClarity; Joseph Vu, Item Chief at CarClarity, and Sam Khadivizand, Data Scientist at CarClarity. Their important commitments in terms of ability, counsel, and comments contributed enormously to the victory of this report. Their polished skill and commitment to the extent are excellent, and I could not have inquired for a distant better; much better; higher; stronger; improved group. Their mastery and information in their areas greatly contributed to the quality of the report, and their readiness to share their views and concepts was a source of inspiration. Their useful input and bolster all through the method was priceless and much acknowledged.\": 36, 'CarClarity ought to investigate openings to extend its assets in arrange to contribute to unused advances, promoting campaigns, and other activities that may help it grow its reach and move forward with its administrations. This may incorporate looking for out unused speculators or associations, as well as investigating elective sources of financing such as gifts or advances. In arranging to compete with bigger and more built-up competitors, CarClarity ought to center on moving forward with its client involvement. This might incorporate contributing to user-friendly innovation and interfacing, giving comprehensive and opportune client bolster, and advertising competitive intrigued rates and credit terms.': 16, \"CarClarity is a car Loan Platform that was propelled in 2020 by its founders, Zaheer Jappie (CEO), Luke Scott (CTO), and David Fahim (COO). The platform was planned to rearrange the method of choosing a car loan, by providing clients with access to 30+ moneylenders with a few of the foremost competitive rates within Australian advertising. The establishing group of CarClarity pointed to bringing world-class designing and customer-obsessed operations to their clients, with the objective of diminishing the potential stresses that come with applying for unused car credit. The company's center on client benefit and providing easy get-to-do run of car advance alternatives has made a difference it rapidly set up a solid nearness within the Australian Market.\": 9, \"The marketing team at CarClarity is responsible for driving awareness and demand for the company's services. Led by Bridget Devlin, the team consists of creative professionals who work together to develop compelling campaigns and strategies that resonate with potential customers. From graphic designers to digital marketing managers, each member of the team plays a critical role in shaping CarClarity's messaging and driving growth.\": 17}\n",
      "{\"During the seventh week of the internship program, I became familiar with the indicators of Compromise (IOC) in a digital forensic process and what role does it plays in the investigation process. There were multiple aspects that were covered throughout this week such as- the potential signs of compromise in a network, the process of network monitoring to identify the indicator of compromise, the process of gathering the evidence and also the process of extracting some valuable leads from that evidence that can help in solving the digital forensic case. Along with that, there are numerous war rooms scenarios designed for students, each focusing on a particular subject such as network analysis, forensics analysis, Linux foundations, system analysis, scripting, and PowerShell basics. I concentrated on Battle Room 9 this week. The main goal of this week’s internship were:  To understand the basics of the Indicators of Compromise in a cyber-incident, On Friday, I gave a talk about one of the tasks I accomplished in battle room 9, finding the laptop's registered owner. To inspect registry hives, I used Registry Explorer, an open-source program. I used the local workstation of Steve Laptop to load the SYSTEM register hive and to learn about the procedure to identify the IOCs, the criteria of its identification and also the process of its verification. The learning of activities and the fulfillment of these goals gave the following outcomes after the end of this week: At the end of this week, I was aware of the basic concept of the IOCs in a forensic process which includes unusual outbound network traffic, sales in the database read volume, mismatched port application traffic etc. which are also considered as the potential signs of IOCs, the process of identifying these IOC are also learnt and I was able to identify these IOCs after the completion of this week The life cycle includes- gathering data from the initial leads, create or edit the IOCs which includes verification of the IOCs and then the final step is to publish the IOCs (Domingues et al., 2023) and I finished quizzes on the danger landscape and creating a successful reaction strategy on our ITIC LMS platform.\": 31, 'During the time of my internship, I received a ton of support and assistance from my colleagues and also form the ITIC team. Firstly, I want to thank ITIC group for giving this wonderful opportunity and making me a part of the internship and secondly, I want to extend my gratitude to Macquarie university for allowing me to pursue this internship program which helped me to gain a strong practical knowledge and as well as theoretical knowledge. In addition, I would like to express my profound gratitude to my mentor, Stephen Elbourn, for his valuable support throughout the internship. His experience and expertise have had a huge impact on how I perceive the sector. Also, I would like to convey my gratitude to Dr. Amin Beheshti, the convenor of my unit, for his assistance and answers to my enquiries. Finally, I would like to thank my friends, colleagues and family who encouraged me to focus on my studies all the time. They supported me emotionally and financially throughout my degree.': 59, 'More investment sin their security infrastructure to keep their research work and also the details of their customers and partners secure from any unauthorized interferences. Also, they require more technically skilled workforce in order to meet the changing and increasing demands in the future because with the current work force it will be tough for the company to manage all of their operations related to their software system development, networking, technological solutions, AI research and educational training programs.': 24, 'ITIC is an IT based company which provides the technologies which includes the technologies like Cloud, Security, Software Development, Artificial Intelligence and Data Science. ITIC is a premier training organization which provides IT training, IT support and the project implementation services throughout Australia and New Zealand. The organization is also one of the largest entities in Australia to conduct and host the exams from Pearson, PSI, Kryterion and Prometric. The organization also offers the internships to the college students and provides the students with the knowledge of the various IT technologies. ITIC operates from the three subsidiaries known as ITIC Education, ITIC Research, ITIC Systems': 25, 'The corporation keeps ownership rights to the data. The Intuitive Technology Innovations Pty Ltd IT system should not be used to access, store, or distribute anything or information that employees do not want the firm to see or hear. Access to or delivery of electronic material (including emails and internet websites) that may violate any of Intuitive Technology Innovations Pty Ltd.’s policies may be banned if the firm feels it is necessary and permitted by law': 9, \"ITIC Research, an industry stream of the AI enabled Process (AIP) Research Centre, has awarded Macquarie University a four-year research grant for the 'Intelligence-led Learning and Teaching' project. The fundamental purpose of this research is to advance scientific understanding of intelligent and AI-enabled learning and teaching. It could be used to discover new artificial intelligence and data science applications in education. Businesses are employing artificial intelligence and data science to fundamentally change operations, such as assisting staff in communicating analysis and making decisions\": 18}\n"
     ]
    }
   ],
   "source": [
    "#Performing context similarity check with all paragraph lists.\n",
    "library_list = [library_sample_check_list, library_sample_check_list_2, library_sample_check_list_3,library_sample_check_list_4]\n",
    "library_sentence_transformer_list = []\n",
    "for list_var in library_list:\n",
    "  library_sentence_transformer_list.append(library_sample_check_function_new_sentence_model(list_var, title))\n",
    "for var in library_sentence_transformer_list:\n",
    "  print(var)"
   ]
  },
  {
   "cell_type": "markdown",
   "metadata": {},
   "source": [
    "## Sample Code Using Webhook"
   ]
  },
  {
   "cell_type": "code",
   "execution_count": 6,
   "metadata": {},
   "outputs": [
    {
     "name": "stdout",
     "output_type": "stream",
     "text": [
      "Job enqueued successfully!\n"
     ]
    }
   ],
   "source": [
    "import requests\n",
    "\n",
    "input_text = \"sample random text\"\n",
    "\n",
    "url = \"http://127.0.0.1:5000/job\"\n",
    "data = {\"input_str\": input_text}\n",
    "response = requests.post(url, data=data)\n",
    "\n",
    "if response.status_code == 200:\n",
    "    print(\"Job enqueued successfully!\")\n",
    "else:\n",
    "    print(\"Something went wrong. Status code:\", response.status_code)"
   ]
  }
 ],
 "metadata": {
  "kernelspec": {
   "display_name": ".venv",
   "language": "python",
   "name": "python3"
  },
  "language_info": {
   "codemirror_mode": {
    "name": "ipython",
    "version": 3
   },
   "file_extension": ".py",
   "mimetype": "text/x-python",
   "name": "python",
   "nbconvert_exporter": "python",
   "pygments_lexer": "ipython3",
   "version": "3.9.6"
  }
 },
 "nbformat": 4,
 "nbformat_minor": 2
}
