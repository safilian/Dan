{
 "cells": [
  {
   "cell_type": "markdown",
   "metadata": {},
   "source": [
    "# Title Page Element Identification"
   ]
  },
  {
   "cell_type": "code",
   "execution_count": 7,
   "metadata": {},
   "outputs": [
    {
     "name": "stdout",
     "output_type": "stream",
     "text": [
      "   Unnamed: 0 NodeID                                  Document Criteria  \\\n",
      "0         NaN      1  Title Page (No title page, then -10%)\\nThe tit...   \n",
      "1         NaN    1.1                                           No Exist   \n",
      "2         NaN    1.2                                           No Exist   \n",
      "3         NaN    1.3                                           No Exist   \n",
      "4         NaN    1.4                                           No Exist   \n",
      "\n",
      "                             Document Clear Criteria  \\\n",
      "0  The Document should have title page. \\n(No tit...   \n",
      "1                        Existing Title Page Section   \n",
      "2                  Existing Name of the organization   \n",
      "3  Existing Name of the internee, Student ID and ...   \n",
      "4  Existing Submission date of the internship report   \n",
      "\n",
      "                   Simplifiezed version of Criteria        Criteria Title  \\\n",
      "0  *Existing Title Page Section\\n*Existing Name o...           Title Page   \n",
      "1                                            No Need           Title page   \n",
      "2                                            No Need    Organization name   \n",
      "3                                            No Need  Student Information   \n",
      "4                                            No Need      Submission Date   \n",
      "\n",
      "  Answer Section/Subsection  Complexity of Scoring  Criteria Granuality  \\\n",
      "0                Title Page                    2.0                  5.0   \n",
      "1                Title Page                    1.0                  1.0   \n",
      "2                Title Page                    1.0                  1.0   \n",
      "3                Title Page                    1.0                  1.0   \n",
      "4                Title Page                    1.0                  1.0   \n",
      "\n",
      "   Section Max Score an source  ... Unnamed: 13 Unnamed: 14  \\\n",
      "0                          NaN  ...         NaN       -10.0   \n",
      "1                          NaN  ...         NaN         NaN   \n",
      "2                          NaN  ...         NaN         NaN   \n",
      "3                          NaN  ...         NaN         NaN   \n",
      "4                          NaN  ...         NaN         NaN   \n",
      "\n",
      "          Unnamed: 15     Rubric Subcriteria Topic  Rubric Subcriteria  \\\n",
      "0  Title Page Section  Existing Title Page Section                 NaN   \n",
      "1                 NaN  Existing Title Page Section                 NaN   \n",
      "2                 NaN  Existing Title Page Section                 NaN   \n",
      "3                 NaN  Existing Title Page Section                 NaN   \n",
      "4                 NaN  Existing Title Page Section                 NaN   \n",
      "\n",
      "  Subcriteria condition Condition related score Unnamed: 20 Unnamed: 21  \\\n",
      "0                   NaN                     NaN         NaN         NaN   \n",
      "1                   NaN                     NaN         NaN         NaN   \n",
      "2                   NaN                     NaN         NaN         NaN   \n",
      "3                   NaN                     NaN         NaN         NaN   \n",
      "4                   NaN                     NaN         NaN         NaN   \n",
      "\n",
      "      Unnamed: 22  \n",
      "0  student report  \n",
      "1             NaN  \n",
      "2             NaN  \n",
      "3             NaN  \n",
      "4             NaN  \n",
      "\n",
      "[5 rows x 23 columns]\n"
     ]
    }
   ],
   "source": [
    "import pandas as pd\n",
    "\n",
    "rubric_data = pd.read_excel('../../raw_data/Rubric_Style.xlsx', sheet_name='samples')\n",
    "print(rubric_data.head())"
   ]
  },
  {
   "cell_type": "code",
   "execution_count": 9,
   "metadata": {},
   "outputs": [
    {
     "name": "stdout",
     "output_type": "stream",
     "text": [
      "Unnamed: 0                                47\n",
      "NodeID                                    19\n",
      "Document Criteria                         18\n",
      "Document Clear Criteria                   34\n",
      "Simplifiezed version of Criteria          34\n",
      "Criteria Title                            33\n",
      "Answer Section/Subsection                 22\n",
      "Complexity of Scoring                     34\n",
      "Criteria Granuality                       34\n",
      "Section Max Score an source               47\n",
      "Influence On Scoring (Scoring Formula)    34\n",
      "Type of Scording                          34\n",
      "List of Subcondition Condition-Score       4\n",
      "Unnamed: 13                               47\n",
      "Unnamed: 14                               41\n",
      "Unnamed: 15                               41\n",
      "Rubric Subcriteria Topic                  26\n",
      "Rubric Subcriteria                        30\n",
      "Subcriteria condition                     44\n",
      "Condition related score                   47\n",
      "Unnamed: 20                               47\n",
      "Unnamed: 21                               47\n",
      "Unnamed: 22                               41\n",
      "dtype: int64\n"
     ]
    }
   ],
   "source": [
    "print(rubric_data.isnull().sum())  # Count missing values per column\n"
   ]
  }
 ],
 "metadata": {
  "kernelspec": {
   "display_name": ".venv",
   "language": "python",
   "name": "python3"
  },
  "language_info": {
   "codemirror_mode": {
    "name": "ipython",
    "version": 3
   },
   "file_extension": ".py",
   "mimetype": "text/x-python",
   "name": "python",
   "nbconvert_exporter": "python",
   "pygments_lexer": "ipython3",
   "version": "3.9.6"
  }
 },
 "nbformat": 4,
 "nbformat_minor": 2
}
